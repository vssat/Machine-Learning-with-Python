{
 "cells": [
  {
   "cell_type": "markdown",
   "id": "3198a9dd",
   "metadata": {},
   "source": [
    "# 0 必要的packages"
   ]
  },
  {
   "cell_type": "code",
   "execution_count": 1,
   "id": "d9c64389",
   "metadata": {},
   "outputs": [],
   "source": [
    "import pandas as pd\n",
    "import numpy as np\n",
    "import sklearn\n",
    "import matplotlib.pyplot as plt\n",
    "import mglearn"
   ]
  },
  {
   "cell_type": "markdown",
   "id": "c1b34ee8",
   "metadata": {},
   "source": [
    "# 1 KNN "
   ]
  },
  {
   "cell_type": "code",
   "execution_count": 14,
   "id": "d826b588",
   "metadata": {},
   "outputs": [
    {
     "name": "stdout",
     "output_type": "stream",
     "text": [
      "[1 0 1 0 1 0 0]\n",
      "\n",
      "\n",
      " KNN accuracy is 85.71428571428571%\n"
     ]
    }
   ],
   "source": [
    "# import sample dataset\n",
    "X,y = mglearn.datasets.make_forge()\n",
    "\n",
    "\n",
    "# 使用train_test_split function 生成training dataset 和 test dataset\n",
    "# X_train, X_test, y_train, y_test = train_test_split(train_data, train_target, test_size, random_state, shuffle)\n",
    "    # train_data:          X values\n",
    "    # train_target:        Y values\n",
    "    # test_size=0.25:      % 选择split 的比例，默认25%用于test\n",
    "    # random_state:        随机抽取obs的random seed\n",
    "    # shuffle=True：       True-打乱dataset的顺序， False-不打乱\n",
    "    # 返回一个tuple: 训练用X，测试用X； 训练用y，测试用y\n",
    "from sklearn.model_selection import train_test_split  \n",
    "X_train, X_test, y_train, y_test = train_test_split(X,y,random_state=0)\n",
    "\n",
    "# 使用sklearn.neighbors.KNeighborsClassifier类来做KNN\n",
    "from sklearn.neighbors import KNeighborsClassifier\n",
    "\n",
    "# 将KNeighborsClassifier类实例化——声明利用最近的3个neighbors来做判断\n",
    "clf = KNeighborsClassifier(n_neighbors=1)\n",
    "\n",
    "# fit the model,返回一个训练之后的model （返回自身）\n",
    "clf.fit(X_train, y_train)\n",
    "\n",
    "# 使用model.predict(X_test)来预测\n",
    "y_predicted = clf.predict(X_test)\n",
    "print(y_predicted)\n",
    "print(\"\\n\")\n",
    "\n",
    "# 使用model.score(X_test, y_test)来measure model的预测准确率\n",
    "clf_score = clf.score(X_test, y_test)\n",
    "print(f\" KNN accuracy is {clf_score*100}%\")\n"
   ]
  },
  {
   "cell_type": "code",
   "execution_count": 15,
   "id": "7519e080",
   "metadata": {},
   "outputs": [
    {
     "data": {
      "text/plain": [
       "[<matplotlib.lines.Line2D at 0x213d48b8520>,\n",
       " <matplotlib.lines.Line2D at 0x213d48b88b0>]"
      ]
     },
     "execution_count": 15,
     "metadata": {},
     "output_type": "execute_result"
    },
    {
     "data": {
      "image/png": "[encoded data removed]",
      "text/plain": [
       "<Figure size 432x288 with 1 Axes>"
      ]
     },
     "metadata": {},
     "output_type": "display_data"
    }
   ],
   "source": [
    "# 查看decision boundary\n",
    "mglearn.plots.plot_2d_separator(clf, X, fill=True, eps=0.5, alpha=0.5)   # draw the decision boundary\n",
    "mglearn.discrete_scatter(X[:,0],X[:,1],y)\n"
   ]
  },
  {
   "cell_type": "code",
   "execution_count": null,
   "id": "a2df8bce",
   "metadata": {},
   "outputs": [],
   "source": []
  }
 ],
 "metadata": {
  "kernelspec": {
   "display_name": "Python 3 (ipykernel)",
   "language": "python",
   "name": "python3"
  },
  "language_info": {
   "codemirror_mode": {
    "name": "ipython",
    "version": 3
   },
   "file_extension": ".py",
   "mimetype": "text/x-python",
   "name": "python",
   "nbconvert_exporter": "python",
   "pygments_lexer": "ipython3",
   "version": "3.9.7"
  },
  "varInspector": {
   "cols": {
    "lenName": 16,
    "lenType": 16,
    "lenVar": 40
   },
   "kernels_config": {
    "python": {
     "delete_cmd_postfix": "",
     "delete_cmd_prefix": "del ",
     "library": "var_list.py",
     "varRefreshCmd": "print(var_dic_list())"
    },
    "r": {
     "delete_cmd_postfix": ") ",
     "delete_cmd_prefix": "rm(",
     "library": "var_list.r",
     "varRefreshCmd": "cat(var_dic_list()) "
    }
   },
   "types_to_exclude": [
    "module",
    "function",
    "builtin_function_or_method",
    "instance",
    "_Feature"
   ],
   "window_display": false
  }
 },
 "nbformat": 4,
 "nbformat_minor": 5
}
